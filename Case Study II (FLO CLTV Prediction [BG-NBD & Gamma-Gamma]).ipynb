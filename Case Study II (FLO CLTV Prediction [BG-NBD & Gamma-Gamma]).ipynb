{
 "cells": [
  {
   "cell_type": "markdown",
   "id": "d9cfccd8",
   "metadata": {},
   "source": [
    "# BG-NBD ve Gamma-Gamma ile CLTV Tahmini"
   ]
  },
  {
   "cell_type": "markdown",
   "id": "549a92b5",
   "metadata": {},
   "source": [
    "## Görev 1: Veriyi Hazırlama"
   ]
  },
  {
   "cell_type": "markdown",
   "id": "9edb5f81",
   "metadata": {},
   "source": [
    "### Adım 1: flo_data_20k.csv verisini okuyunuz."
   ]
  },
  {
   "cell_type": "code",
   "execution_count": 1,
   "id": "da0d0179",
   "metadata": {
    "scrolled": true
   },
   "outputs": [
    {
     "name": "stdout",
     "output_type": "stream",
     "text": [
      "Requirement already satisfied: lifetimes in c:\\users\\myboz\\anaconda3\\lib\\site-packages (0.11.3)\n",
      "Requirement already satisfied: numpy>=1.10.0 in c:\\users\\myboz\\anaconda3\\lib\\site-packages (from lifetimes) (1.24.3)\n",
      "Requirement already satisfied: scipy>=1.0.0 in c:\\users\\myboz\\anaconda3\\lib\\site-packages (from lifetimes) (1.10.1)\n",
      "Requirement already satisfied: pandas>=0.24.0 in c:\\users\\myboz\\anaconda3\\lib\\site-packages (from lifetimes) (1.5.3)\n",
      "Requirement already satisfied: autograd>=1.2.0 in c:\\users\\myboz\\anaconda3\\lib\\site-packages (from lifetimes) (1.6.2)\n",
      "Requirement already satisfied: dill>=0.2.6 in c:\\users\\myboz\\anaconda3\\lib\\site-packages (from lifetimes) (0.3.6)\n",
      "Requirement already satisfied: future>=0.15.2 in c:\\users\\myboz\\anaconda3\\lib\\site-packages (from autograd>=1.2.0->lifetimes) (0.18.3)\n",
      "Requirement already satisfied: python-dateutil>=2.8.1 in c:\\users\\myboz\\anaconda3\\lib\\site-packages (from pandas>=0.24.0->lifetimes) (2.8.2)\n",
      "Requirement already satisfied: pytz>=2020.1 in c:\\users\\myboz\\anaconda3\\lib\\site-packages (from pandas>=0.24.0->lifetimes) (2022.7)\n",
      "Requirement already satisfied: six>=1.5 in c:\\users\\myboz\\anaconda3\\lib\\site-packages (from python-dateutil>=2.8.1->pandas>=0.24.0->lifetimes) (1.16.0)\n"
     ]
    }
   ],
   "source": [
    "!pip install lifetimes\n",
    "import pandas as pd\n",
    "import datetime as dt\n",
    "import matplotlib.pyplot as plt\n",
    "from lifetimes import BetaGeoFitter\n",
    "from lifetimes import GammaGammaFitter\n",
    "from lifetimes.plotting import plot_period_transactions"
   ]
  },
  {
   "cell_type": "code",
   "execution_count": 2,
   "id": "b85bb651",
   "metadata": {},
   "outputs": [],
   "source": [
    "df_ = pd.read_csv(r\"C:\\Users\\myboz\\development\\miuul\\crm_analytics\\FLO_CLTV_Prediction\\flo_data_20k.csv\")"
   ]
  },
  {
   "cell_type": "code",
   "execution_count": 3,
   "id": "f3aae8de",
   "metadata": {},
   "outputs": [],
   "source": [
    "df = df_.copy()"
   ]
  },
  {
   "cell_type": "markdown",
   "id": "6deff432",
   "metadata": {},
   "source": [
    "### Adım 2: Aykırı değerleri baskılamak için gerekli olan outlier_thresholds ve replace_with_thresholds fonksiyonlarını tanımlayınız."
   ]
  },
  {
   "cell_type": "code",
   "execution_count": 4,
   "id": "4fc73059",
   "metadata": {},
   "outputs": [],
   "source": [
    "def outlier_thresholds(df, var):\n",
    "    qr1 = df[var].quantile(.01)\n",
    "    qr3 = df[var].quantile(.99)\n",
    "    interqr_range = qr3 - qr1\n",
    "    up_limit = qr3 + 1.5 * interqr_range\n",
    "    low_limit = qr1 - 1.5 * interqr_range\n",
    "    return low_limit, up_limit"
   ]
  },
  {
   "cell_type": "code",
   "execution_count": 5,
   "id": "994251cb",
   "metadata": {},
   "outputs": [],
   "source": [
    "def replace_with_threshold(df, var):\n",
    "    low_limit, up_limit = outlier_thresholds(df, var)\n",
    "    df.loc[(df[var] < low_limit), var] = round(low_limit, 0)\n",
    "    df.loc[(df[var] > up_limit), var] = round(up_limit, 0)"
   ]
  },
  {
   "cell_type": "markdown",
   "id": "7421f222",
   "metadata": {},
   "source": [
    "### Adım 3: \"order_num_total_ever_online\", \"order_num_total_ever_offline\", \"customer_value_total_ever_offline\", \"customer_value_total_ever_online\" değişkenlerinin aykırı değeleri varsa baskılayınız."
   ]
  },
  {
   "cell_type": "code",
   "execution_count": 6,
   "id": "26dd6a8e",
   "metadata": {},
   "outputs": [],
   "source": [
    "replace_with_threshold(df, 'order_num_total_ever_online')\n",
    "replace_with_threshold(df, 'order_num_total_ever_offline')\n",
    "replace_with_threshold(df, 'customer_value_total_ever_offline')\n",
    "replace_with_threshold(df, 'customer_value_total_ever_online')"
   ]
  },
  {
   "cell_type": "markdown",
   "id": "b02e5d00",
   "metadata": {},
   "source": [
    "### Adım 4: Omnichannel müşterilerin hem online hem de offline platformlardan alışveriş yaptığını ifade etmektedir. Her bir müşterinin toplam alışveriş sayısı ve harcaması için yeni değişkenler oluşturunuz."
   ]
  },
  {
   "cell_type": "code",
   "execution_count": 7,
   "id": "fcc8607c",
   "metadata": {},
   "outputs": [
    {
     "data": {
      "text/html": [
       "<div>\n",
       "<style scoped>\n",
       "    .dataframe tbody tr th:only-of-type {\n",
       "        vertical-align: middle;\n",
       "    }\n",
       "\n",
       "    .dataframe tbody tr th {\n",
       "        vertical-align: top;\n",
       "    }\n",
       "\n",
       "    .dataframe thead th {\n",
       "        text-align: right;\n",
       "    }\n",
       "</style>\n",
       "<table border=\"1\" class=\"dataframe\">\n",
       "  <thead>\n",
       "    <tr style=\"text-align: right;\">\n",
       "      <th></th>\n",
       "      <th>master_id</th>\n",
       "      <th>order_channel</th>\n",
       "      <th>last_order_channel</th>\n",
       "      <th>first_order_date</th>\n",
       "      <th>last_order_date</th>\n",
       "      <th>last_order_date_online</th>\n",
       "      <th>last_order_date_offline</th>\n",
       "      <th>order_num_total_ever_online</th>\n",
       "      <th>order_num_total_ever_offline</th>\n",
       "      <th>customer_value_total_ever_offline</th>\n",
       "      <th>customer_value_total_ever_online</th>\n",
       "      <th>interested_in_categories_12</th>\n",
       "    </tr>\n",
       "  </thead>\n",
       "  <tbody>\n",
       "    <tr>\n",
       "      <th>0</th>\n",
       "      <td>cc294636-19f0-11eb-8d74-000d3a38a36f</td>\n",
       "      <td>Android App</td>\n",
       "      <td>Offline</td>\n",
       "      <td>2020-10-30</td>\n",
       "      <td>2021-02-26</td>\n",
       "      <td>2021-02-21</td>\n",
       "      <td>2021-02-26</td>\n",
       "      <td>4.0</td>\n",
       "      <td>1.0</td>\n",
       "      <td>139.99</td>\n",
       "      <td>799.38</td>\n",
       "      <td>[KADIN]</td>\n",
       "    </tr>\n",
       "    <tr>\n",
       "      <th>1</th>\n",
       "      <td>f431bd5a-ab7b-11e9-a2fc-000d3a38a36f</td>\n",
       "      <td>Android App</td>\n",
       "      <td>Mobile</td>\n",
       "      <td>2017-02-08</td>\n",
       "      <td>2021-02-16</td>\n",
       "      <td>2021-02-16</td>\n",
       "      <td>2020-01-10</td>\n",
       "      <td>19.0</td>\n",
       "      <td>2.0</td>\n",
       "      <td>159.97</td>\n",
       "      <td>1853.58</td>\n",
       "      <td>[ERKEK, COCUK, KADIN, AKTIFSPOR]</td>\n",
       "    </tr>\n",
       "    <tr>\n",
       "      <th>2</th>\n",
       "      <td>69b69676-1a40-11ea-941b-000d3a38a36f</td>\n",
       "      <td>Android App</td>\n",
       "      <td>Android App</td>\n",
       "      <td>2019-11-27</td>\n",
       "      <td>2020-11-27</td>\n",
       "      <td>2020-11-27</td>\n",
       "      <td>2019-12-01</td>\n",
       "      <td>3.0</td>\n",
       "      <td>2.0</td>\n",
       "      <td>189.97</td>\n",
       "      <td>395.35</td>\n",
       "      <td>[ERKEK, KADIN]</td>\n",
       "    </tr>\n",
       "    <tr>\n",
       "      <th>3</th>\n",
       "      <td>1854e56c-491f-11eb-806e-000d3a38a36f</td>\n",
       "      <td>Android App</td>\n",
       "      <td>Android App</td>\n",
       "      <td>2021-01-06</td>\n",
       "      <td>2021-01-17</td>\n",
       "      <td>2021-01-17</td>\n",
       "      <td>2021-01-06</td>\n",
       "      <td>1.0</td>\n",
       "      <td>1.0</td>\n",
       "      <td>39.99</td>\n",
       "      <td>81.98</td>\n",
       "      <td>[AKTIFCOCUK, COCUK]</td>\n",
       "    </tr>\n",
       "    <tr>\n",
       "      <th>4</th>\n",
       "      <td>d6ea1074-f1f5-11e9-9346-000d3a38a36f</td>\n",
       "      <td>Desktop</td>\n",
       "      <td>Desktop</td>\n",
       "      <td>2019-08-03</td>\n",
       "      <td>2021-03-07</td>\n",
       "      <td>2021-03-07</td>\n",
       "      <td>2019-08-03</td>\n",
       "      <td>1.0</td>\n",
       "      <td>1.0</td>\n",
       "      <td>49.99</td>\n",
       "      <td>159.99</td>\n",
       "      <td>[AKTIFSPOR]</td>\n",
       "    </tr>\n",
       "  </tbody>\n",
       "</table>\n",
       "</div>"
      ],
      "text/plain": [
       "                              master_id order_channel last_order_channel  \\\n",
       "0  cc294636-19f0-11eb-8d74-000d3a38a36f   Android App            Offline   \n",
       "1  f431bd5a-ab7b-11e9-a2fc-000d3a38a36f   Android App             Mobile   \n",
       "2  69b69676-1a40-11ea-941b-000d3a38a36f   Android App        Android App   \n",
       "3  1854e56c-491f-11eb-806e-000d3a38a36f   Android App        Android App   \n",
       "4  d6ea1074-f1f5-11e9-9346-000d3a38a36f       Desktop            Desktop   \n",
       "\n",
       "  first_order_date last_order_date last_order_date_online  \\\n",
       "0       2020-10-30      2021-02-26             2021-02-21   \n",
       "1       2017-02-08      2021-02-16             2021-02-16   \n",
       "2       2019-11-27      2020-11-27             2020-11-27   \n",
       "3       2021-01-06      2021-01-17             2021-01-17   \n",
       "4       2019-08-03      2021-03-07             2021-03-07   \n",
       "\n",
       "  last_order_date_offline  order_num_total_ever_online  \\\n",
       "0              2021-02-26                          4.0   \n",
       "1              2020-01-10                         19.0   \n",
       "2              2019-12-01                          3.0   \n",
       "3              2021-01-06                          1.0   \n",
       "4              2019-08-03                          1.0   \n",
       "\n",
       "   order_num_total_ever_offline  customer_value_total_ever_offline  \\\n",
       "0                           1.0                             139.99   \n",
       "1                           2.0                             159.97   \n",
       "2                           2.0                             189.97   \n",
       "3                           1.0                              39.99   \n",
       "4                           1.0                              49.99   \n",
       "\n",
       "   customer_value_total_ever_online       interested_in_categories_12  \n",
       "0                            799.38                           [KADIN]  \n",
       "1                           1853.58  [ERKEK, COCUK, KADIN, AKTIFSPOR]  \n",
       "2                            395.35                    [ERKEK, KADIN]  \n",
       "3                             81.98               [AKTIFCOCUK, COCUK]  \n",
       "4                            159.99                       [AKTIFSPOR]  "
      ]
     },
     "execution_count": 7,
     "metadata": {},
     "output_type": "execute_result"
    }
   ],
   "source": [
    "df.head()"
   ]
  },
  {
   "cell_type": "code",
   "execution_count": 8,
   "id": "f3d4ae86",
   "metadata": {},
   "outputs": [],
   "source": [
    "df['total_order_num'] = df['order_num_total_ever_online'] + df['order_num_total_ever_offline']\n",
    "df['total_customer_value'] = df['customer_value_total_ever_online'] + df['customer_value_total_ever_offline']"
   ]
  },
  {
   "cell_type": "markdown",
   "id": "61b5ef1f",
   "metadata": {},
   "source": [
    "### Adım 5: Değişken tiplerini inceleyiniz. Tarih ifade eden değişkenlerin tipini date'e çeviriniz."
   ]
  },
  {
   "cell_type": "code",
   "execution_count": 9,
   "id": "ebf99a1a",
   "metadata": {
    "scrolled": false
   },
   "outputs": [
    {
     "name": "stdout",
     "output_type": "stream",
     "text": [
      "<class 'pandas.core.frame.DataFrame'>\n",
      "RangeIndex: 19945 entries, 0 to 19944\n",
      "Data columns (total 14 columns):\n",
      " #   Column                             Non-Null Count  Dtype  \n",
      "---  ------                             --------------  -----  \n",
      " 0   master_id                          19945 non-null  object \n",
      " 1   order_channel                      19945 non-null  object \n",
      " 2   last_order_channel                 19945 non-null  object \n",
      " 3   first_order_date                   19945 non-null  object \n",
      " 4   last_order_date                    19945 non-null  object \n",
      " 5   last_order_date_online             19945 non-null  object \n",
      " 6   last_order_date_offline            19945 non-null  object \n",
      " 7   order_num_total_ever_online        19945 non-null  float64\n",
      " 8   order_num_total_ever_offline       19945 non-null  float64\n",
      " 9   customer_value_total_ever_offline  19945 non-null  float64\n",
      " 10  customer_value_total_ever_online   19945 non-null  float64\n",
      " 11  interested_in_categories_12        19945 non-null  object \n",
      " 12  total_order_num                    19945 non-null  float64\n",
      " 13  total_customer_value               19945 non-null  float64\n",
      "dtypes: float64(6), object(8)\n",
      "memory usage: 2.1+ MB\n"
     ]
    }
   ],
   "source": [
    "df.info()"
   ]
  },
  {
   "cell_type": "code",
   "execution_count": 10,
   "id": "20a9699b",
   "metadata": {},
   "outputs": [],
   "source": [
    "var_date = df.columns.str.contains('date')"
   ]
  },
  {
   "cell_type": "code",
   "execution_count": 11,
   "id": "133661c9",
   "metadata": {},
   "outputs": [
    {
     "data": {
      "text/plain": [
       "Index(['first_order_date', 'last_order_date', 'last_order_date_online',\n",
       "       'last_order_date_offline'],\n",
       "      dtype='object')"
      ]
     },
     "execution_count": 11,
     "metadata": {},
     "output_type": "execute_result"
    }
   ],
   "source": [
    "df.columns[var_date]"
   ]
  },
  {
   "cell_type": "code",
   "execution_count": 12,
   "id": "a76ec6f1",
   "metadata": {},
   "outputs": [],
   "source": [
    "df[df.columns[var_date]] = df[df.columns[var_date]].astype('datetime64[D]')"
   ]
  },
  {
   "cell_type": "code",
   "execution_count": 13,
   "id": "320af017",
   "metadata": {
    "scrolled": true
   },
   "outputs": [
    {
     "name": "stdout",
     "output_type": "stream",
     "text": [
      "<class 'pandas.core.frame.DataFrame'>\n",
      "RangeIndex: 19945 entries, 0 to 19944\n",
      "Data columns (total 14 columns):\n",
      " #   Column                             Non-Null Count  Dtype         \n",
      "---  ------                             --------------  -----         \n",
      " 0   master_id                          19945 non-null  object        \n",
      " 1   order_channel                      19945 non-null  object        \n",
      " 2   last_order_channel                 19945 non-null  object        \n",
      " 3   first_order_date                   19945 non-null  datetime64[ns]\n",
      " 4   last_order_date                    19945 non-null  datetime64[ns]\n",
      " 5   last_order_date_online             19945 non-null  datetime64[ns]\n",
      " 6   last_order_date_offline            19945 non-null  datetime64[ns]\n",
      " 7   order_num_total_ever_online        19945 non-null  float64       \n",
      " 8   order_num_total_ever_offline       19945 non-null  float64       \n",
      " 9   customer_value_total_ever_offline  19945 non-null  float64       \n",
      " 10  customer_value_total_ever_online   19945 non-null  float64       \n",
      " 11  interested_in_categories_12        19945 non-null  object        \n",
      " 12  total_order_num                    19945 non-null  float64       \n",
      " 13  total_customer_value               19945 non-null  float64       \n",
      "dtypes: datetime64[ns](4), float64(6), object(4)\n",
      "memory usage: 2.1+ MB\n"
     ]
    }
   ],
   "source": [
    "df.info()"
   ]
  },
  {
   "cell_type": "markdown",
   "id": "41198ce0",
   "metadata": {},
   "source": [
    "## Görev 2: CLTV  Veri Yapısının Oluşturulması"
   ]
  },
  {
   "cell_type": "markdown",
   "id": "33ec3eb4",
   "metadata": {},
   "source": [
    "### Adım 1: Veri setindeki en son alışverişin yapıldığı tarihten 2 gün sonrasını analiz tarihi olarak alınız."
   ]
  },
  {
   "cell_type": "code",
   "execution_count": 14,
   "id": "fa2384bc",
   "metadata": {},
   "outputs": [
    {
     "data": {
      "text/plain": [
       "Timestamp('2021-05-30 00:00:00')"
      ]
     },
     "execution_count": 14,
     "metadata": {},
     "output_type": "execute_result"
    }
   ],
   "source": [
    "df['last_order_date'].max()"
   ]
  },
  {
   "cell_type": "code",
   "execution_count": 15,
   "id": "2a0feaf2",
   "metadata": {},
   "outputs": [],
   "source": [
    "an_date = dt.datetime(2021, 6, 1)"
   ]
  },
  {
   "cell_type": "markdown",
   "id": "60ad028d",
   "metadata": {},
   "source": [
    "### Adım 2: customer_id, recency_cltv_weekly, T_weekly, frequency ve monetary_cltv_avg değerlerinin yer aldığı bir cltv dataframe'i oluşturunuz. Monetary değeri satın alma başına ortalama değer olarak, recency ve tenure değerleri ise haftalık cinsten ifade edilecek."
   ]
  },
  {
   "cell_type": "code",
   "execution_count": 16,
   "id": "057a9dc0",
   "metadata": {},
   "outputs": [],
   "source": [
    "cltv = pd.DataFrame()"
   ]
  },
  {
   "cell_type": "code",
   "execution_count": 17,
   "id": "621e3deb",
   "metadata": {},
   "outputs": [],
   "source": [
    "cltv['customer_id'] = df['master_id']"
   ]
  },
  {
   "cell_type": "code",
   "execution_count": 22,
   "id": "56076e33",
   "metadata": {},
   "outputs": [],
   "source": [
    "cltv['recency_cltv_weekly'] = ((df['last_order_date'] - df['first_order_date']).dt.days) / 7"
   ]
  },
  {
   "cell_type": "code",
   "execution_count": 25,
   "id": "bfb0f6c3",
   "metadata": {},
   "outputs": [],
   "source": [
    "cltv['T_weekly'] = ((an_date - df['first_order_date']).dt.days) / 7"
   ]
  },
  {
   "cell_type": "code",
   "execution_count": 26,
   "id": "c1663791",
   "metadata": {},
   "outputs": [],
   "source": [
    "cltv['frequency'] = df['total_order_num']"
   ]
  },
  {
   "cell_type": "code",
   "execution_count": 27,
   "id": "d3e5c8c4",
   "metadata": {},
   "outputs": [],
   "source": [
    "cltv['monetary_cltv_avg'] = df['total_customer_value'] / df['total_order_num']"
   ]
  },
  {
   "cell_type": "code",
   "execution_count": 28,
   "id": "733a527c",
   "metadata": {},
   "outputs": [
    {
     "data": {
      "text/html": [
       "<div>\n",
       "<style scoped>\n",
       "    .dataframe tbody tr th:only-of-type {\n",
       "        vertical-align: middle;\n",
       "    }\n",
       "\n",
       "    .dataframe tbody tr th {\n",
       "        vertical-align: top;\n",
       "    }\n",
       "\n",
       "    .dataframe thead th {\n",
       "        text-align: right;\n",
       "    }\n",
       "</style>\n",
       "<table border=\"1\" class=\"dataframe\">\n",
       "  <thead>\n",
       "    <tr style=\"text-align: right;\">\n",
       "      <th></th>\n",
       "      <th>customer_id</th>\n",
       "      <th>recency_cltv_weekly</th>\n",
       "      <th>T_weekly</th>\n",
       "      <th>frequency</th>\n",
       "      <th>monetary_cltv_avg</th>\n",
       "    </tr>\n",
       "  </thead>\n",
       "  <tbody>\n",
       "    <tr>\n",
       "      <th>0</th>\n",
       "      <td>cc294636-19f0-11eb-8d74-000d3a38a36f</td>\n",
       "      <td>17.000000</td>\n",
       "      <td>30.571429</td>\n",
       "      <td>5.0</td>\n",
       "      <td>187.874000</td>\n",
       "    </tr>\n",
       "    <tr>\n",
       "      <th>1</th>\n",
       "      <td>f431bd5a-ab7b-11e9-a2fc-000d3a38a36f</td>\n",
       "      <td>209.857143</td>\n",
       "      <td>224.857143</td>\n",
       "      <td>21.0</td>\n",
       "      <td>95.883333</td>\n",
       "    </tr>\n",
       "    <tr>\n",
       "      <th>2</th>\n",
       "      <td>69b69676-1a40-11ea-941b-000d3a38a36f</td>\n",
       "      <td>52.285714</td>\n",
       "      <td>78.857143</td>\n",
       "      <td>5.0</td>\n",
       "      <td>117.064000</td>\n",
       "    </tr>\n",
       "    <tr>\n",
       "      <th>3</th>\n",
       "      <td>1854e56c-491f-11eb-806e-000d3a38a36f</td>\n",
       "      <td>1.571429</td>\n",
       "      <td>20.857143</td>\n",
       "      <td>2.0</td>\n",
       "      <td>60.985000</td>\n",
       "    </tr>\n",
       "    <tr>\n",
       "      <th>4</th>\n",
       "      <td>d6ea1074-f1f5-11e9-9346-000d3a38a36f</td>\n",
       "      <td>83.142857</td>\n",
       "      <td>95.428571</td>\n",
       "      <td>2.0</td>\n",
       "      <td>104.990000</td>\n",
       "    </tr>\n",
       "  </tbody>\n",
       "</table>\n",
       "</div>"
      ],
      "text/plain": [
       "                            customer_id  recency_cltv_weekly    T_weekly  \\\n",
       "0  cc294636-19f0-11eb-8d74-000d3a38a36f            17.000000   30.571429   \n",
       "1  f431bd5a-ab7b-11e9-a2fc-000d3a38a36f           209.857143  224.857143   \n",
       "2  69b69676-1a40-11ea-941b-000d3a38a36f            52.285714   78.857143   \n",
       "3  1854e56c-491f-11eb-806e-000d3a38a36f             1.571429   20.857143   \n",
       "4  d6ea1074-f1f5-11e9-9346-000d3a38a36f            83.142857   95.428571   \n",
       "\n",
       "   frequency  monetary_cltv_avg  \n",
       "0        5.0         187.874000  \n",
       "1       21.0          95.883333  \n",
       "2        5.0         117.064000  \n",
       "3        2.0          60.985000  \n",
       "4        2.0         104.990000  "
      ]
     },
     "execution_count": 28,
     "metadata": {},
     "output_type": "execute_result"
    }
   ],
   "source": [
    "cltv.head()"
   ]
  },
  {
   "cell_type": "markdown",
   "id": "3335268a",
   "metadata": {},
   "source": [
    "## Görev 3: BG/NBD, Gamma-Gamma Modellerinin Kurulması ve CLTV'nin hesaplanması."
   ]
  },
  {
   "cell_type": "markdown",
   "id": "4f435a43",
   "metadata": {},
   "source": [
    "### Adım 1: BG/NBD modelini fit ediniz."
   ]
  },
  {
   "cell_type": "code",
   "execution_count": 29,
   "id": "78a7bf0b",
   "metadata": {},
   "outputs": [],
   "source": [
    "bgf = BetaGeoFitter(penalizer_coef=0.001)"
   ]
  },
  {
   "cell_type": "code",
   "execution_count": 30,
   "id": "abfad1a7",
   "metadata": {},
   "outputs": [
    {
     "data": {
      "text/plain": [
       "<lifetimes.BetaGeoFitter: fitted with 19945 subjects, a: 0.00, alpha: 76.17, b: 0.00, r: 3.66>"
      ]
     },
     "execution_count": 30,
     "metadata": {},
     "output_type": "execute_result"
    }
   ],
   "source": [
    "bgf.fit(cltv['frequency'], cltv['recency_cltv_weekly'], cltv['T_weekly'])"
   ]
  },
  {
   "cell_type": "markdown",
   "id": "fcd603a2",
   "metadata": {},
   "source": [
    "3 ay içerisinde müşterilerden beklenen satın almaları tahmin ediniz ve exp_sales_3_month olarak cltv dataframe'ine ekleyiniz."
   ]
  },
  {
   "cell_type": "code",
   "execution_count": 31,
   "id": "4ce66e1b",
   "metadata": {},
   "outputs": [],
   "source": [
    "cltv['exp_sales_3_month'] = bgf.conditional_expected_number_of_purchases_up_to_time(3 * 4, cltv['frequency'], cltv['recency_cltv_weekly'], cltv['T_weekly'])"
   ]
  },
  {
   "cell_type": "markdown",
   "id": "9d11d717",
   "metadata": {},
   "source": [
    "6 ay içerisinde müşterilerden beklenen satın almaları tahmin ediniz ve exp_sales_6_month olarak cltv dataframe'ine ekleyiniz."
   ]
  },
  {
   "cell_type": "code",
   "execution_count": 32,
   "id": "1232ac9c",
   "metadata": {},
   "outputs": [],
   "source": [
    "cltv['exp_sales_6_month'] = bgf.conditional_expected_number_of_purchases_up_to_time(6 * 4, cltv['frequency'], cltv['recency_cltv_weekly'], cltv['T_weekly'])"
   ]
  },
  {
   "cell_type": "markdown",
   "id": "a8a8aa40",
   "metadata": {},
   "source": [
    "### Adım 2: Gamma-Gamma modelini fit ediniz. Müşterilerin ortalama bırakacakları değeri tahminleyip exp_average_value olarak cltv dataframe'ine ekleyiniz."
   ]
  },
  {
   "cell_type": "code",
   "execution_count": 33,
   "id": "7755a206",
   "metadata": {},
   "outputs": [],
   "source": [
    "ggf = GammaGammaFitter(penalizer_coef=0.01)"
   ]
  },
  {
   "cell_type": "code",
   "execution_count": 35,
   "id": "975405e0",
   "metadata": {},
   "outputs": [
    {
     "data": {
      "text/plain": [
       "<lifetimes.GammaGammaFitter: fitted with 19945 subjects, p: 4.15, q: 0.47, v: 4.08>"
      ]
     },
     "execution_count": 35,
     "metadata": {},
     "output_type": "execute_result"
    }
   ],
   "source": [
    "ggf.fit(cltv['frequency'], cltv['monetary_cltv_avg'])"
   ]
  },
  {
   "cell_type": "markdown",
   "id": "48acece2",
   "metadata": {},
   "source": [
    "### Adım 3: 6 aylık CLTV hesaplayınız ve cltv ismiyle dataframe'e ekleyiniz.,"
   ]
  },
  {
   "cell_type": "code",
   "execution_count": 37,
   "id": "faf98a23",
   "metadata": {},
   "outputs": [],
   "source": [
    "cltv['cltv'] = ggf.customer_lifetime_value(bgf,\n",
    "                                           cltv['frequency'],\n",
    "                                           cltv['recency_cltv_weekly'],\n",
    "                                           cltv['T_weekly'],\n",
    "                                           cltv['monetary_cltv_avg'],\n",
    "                                           time = 6, # 6 aylık\n",
    "                                           freq = 'W',\n",
    "                                           discount_rate = 0.01)"
   ]
  },
  {
   "cell_type": "markdown",
   "id": "b73cf52e",
   "metadata": {},
   "source": [
    "cltv değeri en yüksek 20 kişiyi gözleyiniz."
   ]
  },
  {
   "cell_type": "code",
   "execution_count": 38,
   "id": "dad91989",
   "metadata": {},
   "outputs": [
    {
     "data": {
      "text/html": [
       "<div>\n",
       "<style scoped>\n",
       "    .dataframe tbody tr th:only-of-type {\n",
       "        vertical-align: middle;\n",
       "    }\n",
       "\n",
       "    .dataframe tbody tr th {\n",
       "        vertical-align: top;\n",
       "    }\n",
       "\n",
       "    .dataframe thead th {\n",
       "        text-align: right;\n",
       "    }\n",
       "</style>\n",
       "<table border=\"1\" class=\"dataframe\">\n",
       "  <thead>\n",
       "    <tr style=\"text-align: right;\">\n",
       "      <th></th>\n",
       "      <th>customer_id</th>\n",
       "      <th>recency_cltv_weekly</th>\n",
       "      <th>T_weekly</th>\n",
       "      <th>frequency</th>\n",
       "      <th>monetary_cltv_avg</th>\n",
       "      <th>exp_sales_3_month</th>\n",
       "      <th>exp_sales_6_month</th>\n",
       "      <th>cltv</th>\n",
       "    </tr>\n",
       "  </thead>\n",
       "  <tbody>\n",
       "    <tr>\n",
       "      <th>9055</th>\n",
       "      <td>47a642fe-975b-11eb-8c2a-000d3a38a36f</td>\n",
       "      <td>2.857143</td>\n",
       "      <td>7.857143</td>\n",
       "      <td>4.0</td>\n",
       "      <td>1401.800000</td>\n",
       "      <td>1.094385</td>\n",
       "      <td>2.188769</td>\n",
       "      <td>3327.777040</td>\n",
       "    </tr>\n",
       "    <tr>\n",
       "      <th>13880</th>\n",
       "      <td>7137a5c0-7aad-11ea-8f20-000d3a38a36f</td>\n",
       "      <td>6.142857</td>\n",
       "      <td>13.142857</td>\n",
       "      <td>11.0</td>\n",
       "      <td>758.085455</td>\n",
       "      <td>1.970108</td>\n",
       "      <td>3.940216</td>\n",
       "      <td>3172.394390</td>\n",
       "    </tr>\n",
       "    <tr>\n",
       "      <th>17323</th>\n",
       "      <td>f59053e2-a503-11e9-a2fc-000d3a38a36f</td>\n",
       "      <td>51.714286</td>\n",
       "      <td>101.000000</td>\n",
       "      <td>7.0</td>\n",
       "      <td>1106.467143</td>\n",
       "      <td>0.722238</td>\n",
       "      <td>1.444476</td>\n",
       "      <td>1708.982063</td>\n",
       "    </tr>\n",
       "    <tr>\n",
       "      <th>12438</th>\n",
       "      <td>625f40a2-5bd2-11ea-98b0-000d3a38a36f</td>\n",
       "      <td>74.285714</td>\n",
       "      <td>74.571429</td>\n",
       "      <td>16.0</td>\n",
       "      <td>501.873750</td>\n",
       "      <td>1.565309</td>\n",
       "      <td>3.130618</td>\n",
       "      <td>1662.613492</td>\n",
       "    </tr>\n",
       "    <tr>\n",
       "      <th>7330</th>\n",
       "      <td>a4d534a2-5b1b-11eb-8dbd-000d3a38a36f</td>\n",
       "      <td>62.714286</td>\n",
       "      <td>67.285714</td>\n",
       "      <td>52.0</td>\n",
       "      <td>166.224615</td>\n",
       "      <td>4.656138</td>\n",
       "      <td>9.312276</td>\n",
       "      <td>1628.887381</td>\n",
       "    </tr>\n",
       "    <tr>\n",
       "      <th>8868</th>\n",
       "      <td>9ce6e520-89b0-11ea-a6e7-000d3a38a36f</td>\n",
       "      <td>3.428571</td>\n",
       "      <td>34.428571</td>\n",
       "      <td>8.0</td>\n",
       "      <td>601.226250</td>\n",
       "      <td>1.265456</td>\n",
       "      <td>2.530912</td>\n",
       "      <td>1623.812684</td>\n",
       "    </tr>\n",
       "    <tr>\n",
       "      <th>6402</th>\n",
       "      <td>851de3b4-8f0c-11eb-8cb8-000d3a38a36f</td>\n",
       "      <td>8.285714</td>\n",
       "      <td>9.428571</td>\n",
       "      <td>2.0</td>\n",
       "      <td>862.690000</td>\n",
       "      <td>0.793924</td>\n",
       "      <td>1.587847</td>\n",
       "      <td>1538.855906</td>\n",
       "    </tr>\n",
       "    <tr>\n",
       "      <th>6666</th>\n",
       "      <td>53fe00d4-7b7a-11eb-960b-000d3a38a36f</td>\n",
       "      <td>9.714286</td>\n",
       "      <td>13.000000</td>\n",
       "      <td>17.0</td>\n",
       "      <td>259.865294</td>\n",
       "      <td>2.780689</td>\n",
       "      <td>5.561378</td>\n",
       "      <td>1529.227995</td>\n",
       "    </tr>\n",
       "    <tr>\n",
       "      <th>19538</th>\n",
       "      <td>55d54d9e-8ac7-11ea-8ec0-000d3a38a36f</td>\n",
       "      <td>52.571429</td>\n",
       "      <td>58.714286</td>\n",
       "      <td>31.0</td>\n",
       "      <td>228.530000</td>\n",
       "      <td>3.083779</td>\n",
       "      <td>6.167558</td>\n",
       "      <td>1485.819156</td>\n",
       "    </tr>\n",
       "    <tr>\n",
       "      <th>14858</th>\n",
       "      <td>031b2954-6d28-11eb-99c4-000d3a38a36f</td>\n",
       "      <td>14.857143</td>\n",
       "      <td>15.571429</td>\n",
       "      <td>3.0</td>\n",
       "      <td>743.586667</td>\n",
       "      <td>0.871564</td>\n",
       "      <td>1.743128</td>\n",
       "      <td>1422.999674</td>\n",
       "    </tr>\n",
       "    <tr>\n",
       "      <th>17963</th>\n",
       "      <td>8fd88976-6708-11ea-9d38-000d3a38a36f</td>\n",
       "      <td>50.285714</td>\n",
       "      <td>63.285714</td>\n",
       "      <td>7.0</td>\n",
       "      <td>694.198571</td>\n",
       "      <td>0.917556</td>\n",
       "      <td>1.835112</td>\n",
       "      <td>1362.607217</td>\n",
       "    </tr>\n",
       "    <tr>\n",
       "      <th>15516</th>\n",
       "      <td>9083981a-f59e-11e9-841e-000d3a38a36f</td>\n",
       "      <td>63.571429</td>\n",
       "      <td>83.857143</td>\n",
       "      <td>4.0</td>\n",
       "      <td>1090.360000</td>\n",
       "      <td>0.574648</td>\n",
       "      <td>1.149296</td>\n",
       "      <td>1359.439663</td>\n",
       "    </tr>\n",
       "    <tr>\n",
       "      <th>6717</th>\n",
       "      <td>40b4f318-9dfb-11eb-9c47-000d3a38a36f</td>\n",
       "      <td>27.142857</td>\n",
       "      <td>33.857143</td>\n",
       "      <td>7.0</td>\n",
       "      <td>544.700000</td>\n",
       "      <td>1.162966</td>\n",
       "      <td>2.325933</td>\n",
       "      <td>1355.435247</td>\n",
       "    </tr>\n",
       "    <tr>\n",
       "      <th>4157</th>\n",
       "      <td>7eed6468-4540-11ea-acaf-000d3a38a36f</td>\n",
       "      <td>89.142857</td>\n",
       "      <td>90.000000</td>\n",
       "      <td>27.0</td>\n",
       "      <td>289.764074</td>\n",
       "      <td>2.214331</td>\n",
       "      <td>4.428662</td>\n",
       "      <td>1353.533659</td>\n",
       "    </tr>\n",
       "    <tr>\n",
       "      <th>4735</th>\n",
       "      <td>dbabb58e-6312-11ea-a6dc-000d3a38a36f</td>\n",
       "      <td>61.285714</td>\n",
       "      <td>64.285714</td>\n",
       "      <td>13.0</td>\n",
       "      <td>442.115385</td>\n",
       "      <td>1.423632</td>\n",
       "      <td>2.847264</td>\n",
       "      <td>1334.825054</td>\n",
       "    </tr>\n",
       "    <tr>\n",
       "      <th>11694</th>\n",
       "      <td>90f1b7f2-bbad-11ea-a0c9-000d3a38a36f</td>\n",
       "      <td>47.285714</td>\n",
       "      <td>48.000000</td>\n",
       "      <td>6.0</td>\n",
       "      <td>647.345000</td>\n",
       "      <td>0.933868</td>\n",
       "      <td>1.867736</td>\n",
       "      <td>1297.518587</td>\n",
       "    </tr>\n",
       "    <tr>\n",
       "      <th>11179</th>\n",
       "      <td>d2e74a36-3228-11eb-860c-000d3a38a36f</td>\n",
       "      <td>1.142857</td>\n",
       "      <td>26.285714</td>\n",
       "      <td>3.0</td>\n",
       "      <td>750.570000</td>\n",
       "      <td>0.780423</td>\n",
       "      <td>1.560845</td>\n",
       "      <td>1286.137844</td>\n",
       "    </tr>\n",
       "    <tr>\n",
       "      <th>1853</th>\n",
       "      <td>f02473b0-43c3-11eb-806e-000d3a38a36f</td>\n",
       "      <td>17.285714</td>\n",
       "      <td>23.142857</td>\n",
       "      <td>2.0</td>\n",
       "      <td>835.875000</td>\n",
       "      <td>0.684292</td>\n",
       "      <td>1.368584</td>\n",
       "      <td>1285.227665</td>\n",
       "    </tr>\n",
       "    <tr>\n",
       "      <th>5775</th>\n",
       "      <td>e31293ac-d63a-11e9-93bc-000d3a38a36f</td>\n",
       "      <td>91.714286</td>\n",
       "      <td>93.142857</td>\n",
       "      <td>8.0</td>\n",
       "      <td>727.086250</td>\n",
       "      <td>0.826627</td>\n",
       "      <td>1.653255</td>\n",
       "      <td>1282.575796</td>\n",
       "    </tr>\n",
       "    <tr>\n",
       "      <th>7312</th>\n",
       "      <td>90befc98-925a-11eb-b584-000d3a38a36f</td>\n",
       "      <td>4.142857</td>\n",
       "      <td>8.857143</td>\n",
       "      <td>6.0</td>\n",
       "      <td>431.328333</td>\n",
       "      <td>1.363769</td>\n",
       "      <td>2.727538</td>\n",
       "      <td>1263.191211</td>\n",
       "    </tr>\n",
       "  </tbody>\n",
       "</table>\n",
       "</div>"
      ],
      "text/plain": [
       "                                customer_id  recency_cltv_weekly    T_weekly  \\\n",
       "9055   47a642fe-975b-11eb-8c2a-000d3a38a36f             2.857143    7.857143   \n",
       "13880  7137a5c0-7aad-11ea-8f20-000d3a38a36f             6.142857   13.142857   \n",
       "17323  f59053e2-a503-11e9-a2fc-000d3a38a36f            51.714286  101.000000   \n",
       "12438  625f40a2-5bd2-11ea-98b0-000d3a38a36f            74.285714   74.571429   \n",
       "7330   a4d534a2-5b1b-11eb-8dbd-000d3a38a36f            62.714286   67.285714   \n",
       "8868   9ce6e520-89b0-11ea-a6e7-000d3a38a36f             3.428571   34.428571   \n",
       "6402   851de3b4-8f0c-11eb-8cb8-000d3a38a36f             8.285714    9.428571   \n",
       "6666   53fe00d4-7b7a-11eb-960b-000d3a38a36f             9.714286   13.000000   \n",
       "19538  55d54d9e-8ac7-11ea-8ec0-000d3a38a36f            52.571429   58.714286   \n",
       "14858  031b2954-6d28-11eb-99c4-000d3a38a36f            14.857143   15.571429   \n",
       "17963  8fd88976-6708-11ea-9d38-000d3a38a36f            50.285714   63.285714   \n",
       "15516  9083981a-f59e-11e9-841e-000d3a38a36f            63.571429   83.857143   \n",
       "6717   40b4f318-9dfb-11eb-9c47-000d3a38a36f            27.142857   33.857143   \n",
       "4157   7eed6468-4540-11ea-acaf-000d3a38a36f            89.142857   90.000000   \n",
       "4735   dbabb58e-6312-11ea-a6dc-000d3a38a36f            61.285714   64.285714   \n",
       "11694  90f1b7f2-bbad-11ea-a0c9-000d3a38a36f            47.285714   48.000000   \n",
       "11179  d2e74a36-3228-11eb-860c-000d3a38a36f             1.142857   26.285714   \n",
       "1853   f02473b0-43c3-11eb-806e-000d3a38a36f            17.285714   23.142857   \n",
       "5775   e31293ac-d63a-11e9-93bc-000d3a38a36f            91.714286   93.142857   \n",
       "7312   90befc98-925a-11eb-b584-000d3a38a36f             4.142857    8.857143   \n",
       "\n",
       "       frequency  monetary_cltv_avg  exp_sales_3_month  exp_sales_6_month  \\\n",
       "9055         4.0        1401.800000           1.094385           2.188769   \n",
       "13880       11.0         758.085455           1.970108           3.940216   \n",
       "17323        7.0        1106.467143           0.722238           1.444476   \n",
       "12438       16.0         501.873750           1.565309           3.130618   \n",
       "7330        52.0         166.224615           4.656138           9.312276   \n",
       "8868         8.0         601.226250           1.265456           2.530912   \n",
       "6402         2.0         862.690000           0.793924           1.587847   \n",
       "6666        17.0         259.865294           2.780689           5.561378   \n",
       "19538       31.0         228.530000           3.083779           6.167558   \n",
       "14858        3.0         743.586667           0.871564           1.743128   \n",
       "17963        7.0         694.198571           0.917556           1.835112   \n",
       "15516        4.0        1090.360000           0.574648           1.149296   \n",
       "6717         7.0         544.700000           1.162966           2.325933   \n",
       "4157        27.0         289.764074           2.214331           4.428662   \n",
       "4735        13.0         442.115385           1.423632           2.847264   \n",
       "11694        6.0         647.345000           0.933868           1.867736   \n",
       "11179        3.0         750.570000           0.780423           1.560845   \n",
       "1853         2.0         835.875000           0.684292           1.368584   \n",
       "5775         8.0         727.086250           0.826627           1.653255   \n",
       "7312         6.0         431.328333           1.363769           2.727538   \n",
       "\n",
       "              cltv  \n",
       "9055   3327.777040  \n",
       "13880  3172.394390  \n",
       "17323  1708.982063  \n",
       "12438  1662.613492  \n",
       "7330   1628.887381  \n",
       "8868   1623.812684  \n",
       "6402   1538.855906  \n",
       "6666   1529.227995  \n",
       "19538  1485.819156  \n",
       "14858  1422.999674  \n",
       "17963  1362.607217  \n",
       "15516  1359.439663  \n",
       "6717   1355.435247  \n",
       "4157   1353.533659  \n",
       "4735   1334.825054  \n",
       "11694  1297.518587  \n",
       "11179  1286.137844  \n",
       "1853   1285.227665  \n",
       "5775   1282.575796  \n",
       "7312   1263.191211  "
      ]
     },
     "execution_count": 38,
     "metadata": {},
     "output_type": "execute_result"
    }
   ],
   "source": [
    "cltv.sort_values('cltv', ascending=False).head(20)"
   ]
  },
  {
   "cell_type": "markdown",
   "id": "3f9a9f92",
   "metadata": {},
   "source": [
    "## Görev 4: CLTV Değerine Göre Segmentlerin Oluşturulması"
   ]
  },
  {
   "cell_type": "markdown",
   "id": "500b05bc",
   "metadata": {},
   "source": [
    "### Adım 1: 6 aylık CLTV'ye göre tüm müşterilerinizi 4 gruba (segmente) ayırınız ve grup isimlerini veri setine ekleyiniz."
   ]
  },
  {
   "cell_type": "code",
   "execution_count": 39,
   "id": "7bd9fc99",
   "metadata": {},
   "outputs": [],
   "source": [
    "cltv['cltv_segment'] = pd.qcut(cltv['cltv'], 4, labels=['D', 'C', 'B', 'A'])"
   ]
  },
  {
   "cell_type": "code",
   "execution_count": 40,
   "id": "d8f0abf9",
   "metadata": {},
   "outputs": [
    {
     "data": {
      "text/html": [
       "<div>\n",
       "<style scoped>\n",
       "    .dataframe tbody tr th:only-of-type {\n",
       "        vertical-align: middle;\n",
       "    }\n",
       "\n",
       "    .dataframe tbody tr th {\n",
       "        vertical-align: top;\n",
       "    }\n",
       "\n",
       "    .dataframe thead th {\n",
       "        text-align: right;\n",
       "    }\n",
       "</style>\n",
       "<table border=\"1\" class=\"dataframe\">\n",
       "  <thead>\n",
       "    <tr style=\"text-align: right;\">\n",
       "      <th></th>\n",
       "      <th>customer_id</th>\n",
       "      <th>recency_cltv_weekly</th>\n",
       "      <th>T_weekly</th>\n",
       "      <th>frequency</th>\n",
       "      <th>monetary_cltv_avg</th>\n",
       "      <th>exp_sales_3_month</th>\n",
       "      <th>exp_sales_6_month</th>\n",
       "      <th>cltv</th>\n",
       "      <th>cltv_segment</th>\n",
       "    </tr>\n",
       "  </thead>\n",
       "  <tbody>\n",
       "    <tr>\n",
       "      <th>0</th>\n",
       "      <td>cc294636-19f0-11eb-8d74-000d3a38a36f</td>\n",
       "      <td>17.000000</td>\n",
       "      <td>30.571429</td>\n",
       "      <td>5.0</td>\n",
       "      <td>187.874000</td>\n",
       "      <td>0.973927</td>\n",
       "      <td>1.947853</td>\n",
       "      <td>395.733234</td>\n",
       "      <td>A</td>\n",
       "    </tr>\n",
       "    <tr>\n",
       "      <th>1</th>\n",
       "      <td>f431bd5a-ab7b-11e9-a2fc-000d3a38a36f</td>\n",
       "      <td>209.857143</td>\n",
       "      <td>224.857143</td>\n",
       "      <td>21.0</td>\n",
       "      <td>95.883333</td>\n",
       "      <td>0.983161</td>\n",
       "      <td>1.966323</td>\n",
       "      <td>199.430693</td>\n",
       "      <td>B</td>\n",
       "    </tr>\n",
       "    <tr>\n",
       "      <th>2</th>\n",
       "      <td>69b69676-1a40-11ea-941b-000d3a38a36f</td>\n",
       "      <td>52.285714</td>\n",
       "      <td>78.857143</td>\n",
       "      <td>5.0</td>\n",
       "      <td>117.064000</td>\n",
       "      <td>0.670586</td>\n",
       "      <td>1.341172</td>\n",
       "      <td>170.224184</td>\n",
       "      <td>B</td>\n",
       "    </tr>\n",
       "    <tr>\n",
       "      <th>3</th>\n",
       "      <td>1854e56c-491f-11eb-806e-000d3a38a36f</td>\n",
       "      <td>1.571429</td>\n",
       "      <td>20.857143</td>\n",
       "      <td>2.0</td>\n",
       "      <td>60.985000</td>\n",
       "      <td>0.700412</td>\n",
       "      <td>1.400824</td>\n",
       "      <td>98.945526</td>\n",
       "      <td>D</td>\n",
       "    </tr>\n",
       "    <tr>\n",
       "      <th>4</th>\n",
       "      <td>d6ea1074-f1f5-11e9-9346-000d3a38a36f</td>\n",
       "      <td>83.142857</td>\n",
       "      <td>95.428571</td>\n",
       "      <td>2.0</td>\n",
       "      <td>104.990000</td>\n",
       "      <td>0.396039</td>\n",
       "      <td>0.792077</td>\n",
       "      <td>95.011659</td>\n",
       "      <td>D</td>\n",
       "    </tr>\n",
       "    <tr>\n",
       "      <th>...</th>\n",
       "      <td>...</td>\n",
       "      <td>...</td>\n",
       "      <td>...</td>\n",
       "      <td>...</td>\n",
       "      <td>...</td>\n",
       "      <td>...</td>\n",
       "      <td>...</td>\n",
       "      <td>...</td>\n",
       "      <td>...</td>\n",
       "    </tr>\n",
       "    <tr>\n",
       "      <th>19940</th>\n",
       "      <td>727e2b6e-ddd4-11e9-a848-000d3a38a36f</td>\n",
       "      <td>41.142857</td>\n",
       "      <td>88.428571</td>\n",
       "      <td>3.0</td>\n",
       "      <td>133.986667</td>\n",
       "      <td>0.485785</td>\n",
       "      <td>0.971569</td>\n",
       "      <td>144.101715</td>\n",
       "      <td>C</td>\n",
       "    </tr>\n",
       "    <tr>\n",
       "      <th>19941</th>\n",
       "      <td>25cd53d4-61bf-11ea-8dd8-000d3a38a36f</td>\n",
       "      <td>42.285714</td>\n",
       "      <td>65.285714</td>\n",
       "      <td>2.0</td>\n",
       "      <td>195.235000</td>\n",
       "      <td>0.480429</td>\n",
       "      <td>0.960859</td>\n",
       "      <td>212.440779</td>\n",
       "      <td>B</td>\n",
       "    </tr>\n",
       "    <tr>\n",
       "      <th>19942</th>\n",
       "      <td>8aea4c2a-d6fc-11e9-93bc-000d3a38a36f</td>\n",
       "      <td>88.714286</td>\n",
       "      <td>89.857143</td>\n",
       "      <td>3.0</td>\n",
       "      <td>210.980000</td>\n",
       "      <td>0.481605</td>\n",
       "      <td>0.963210</td>\n",
       "      <td>224.130773</td>\n",
       "      <td>B</td>\n",
       "    </tr>\n",
       "    <tr>\n",
       "      <th>19943</th>\n",
       "      <td>e50bb46c-ff30-11e9-a5e8-000d3a38a36f</td>\n",
       "      <td>98.428571</td>\n",
       "      <td>113.857143</td>\n",
       "      <td>6.0</td>\n",
       "      <td>168.295000</td>\n",
       "      <td>0.610224</td>\n",
       "      <td>1.220448</td>\n",
       "      <td>221.078908</td>\n",
       "      <td>B</td>\n",
       "    </tr>\n",
       "    <tr>\n",
       "      <th>19944</th>\n",
       "      <td>740998d2-b1f7-11e9-89fa-000d3a38a36f</td>\n",
       "      <td>39.571429</td>\n",
       "      <td>91.000000</td>\n",
       "      <td>2.0</td>\n",
       "      <td>130.985000</td>\n",
       "      <td>0.406530</td>\n",
       "      <td>0.813060</td>\n",
       "      <td>121.216266</td>\n",
       "      <td>C</td>\n",
       "    </tr>\n",
       "  </tbody>\n",
       "</table>\n",
       "<p>19945 rows × 9 columns</p>\n",
       "</div>"
      ],
      "text/plain": [
       "                                customer_id  recency_cltv_weekly    T_weekly  \\\n",
       "0      cc294636-19f0-11eb-8d74-000d3a38a36f            17.000000   30.571429   \n",
       "1      f431bd5a-ab7b-11e9-a2fc-000d3a38a36f           209.857143  224.857143   \n",
       "2      69b69676-1a40-11ea-941b-000d3a38a36f            52.285714   78.857143   \n",
       "3      1854e56c-491f-11eb-806e-000d3a38a36f             1.571429   20.857143   \n",
       "4      d6ea1074-f1f5-11e9-9346-000d3a38a36f            83.142857   95.428571   \n",
       "...                                     ...                  ...         ...   \n",
       "19940  727e2b6e-ddd4-11e9-a848-000d3a38a36f            41.142857   88.428571   \n",
       "19941  25cd53d4-61bf-11ea-8dd8-000d3a38a36f            42.285714   65.285714   \n",
       "19942  8aea4c2a-d6fc-11e9-93bc-000d3a38a36f            88.714286   89.857143   \n",
       "19943  e50bb46c-ff30-11e9-a5e8-000d3a38a36f            98.428571  113.857143   \n",
       "19944  740998d2-b1f7-11e9-89fa-000d3a38a36f            39.571429   91.000000   \n",
       "\n",
       "       frequency  monetary_cltv_avg  exp_sales_3_month  exp_sales_6_month  \\\n",
       "0            5.0         187.874000           0.973927           1.947853   \n",
       "1           21.0          95.883333           0.983161           1.966323   \n",
       "2            5.0         117.064000           0.670586           1.341172   \n",
       "3            2.0          60.985000           0.700412           1.400824   \n",
       "4            2.0         104.990000           0.396039           0.792077   \n",
       "...          ...                ...                ...                ...   \n",
       "19940        3.0         133.986667           0.485785           0.971569   \n",
       "19941        2.0         195.235000           0.480429           0.960859   \n",
       "19942        3.0         210.980000           0.481605           0.963210   \n",
       "19943        6.0         168.295000           0.610224           1.220448   \n",
       "19944        2.0         130.985000           0.406530           0.813060   \n",
       "\n",
       "             cltv cltv_segment  \n",
       "0      395.733234            A  \n",
       "1      199.430693            B  \n",
       "2      170.224184            B  \n",
       "3       98.945526            D  \n",
       "4       95.011659            D  \n",
       "...           ...          ...  \n",
       "19940  144.101715            C  \n",
       "19941  212.440779            B  \n",
       "19942  224.130773            B  \n",
       "19943  221.078908            B  \n",
       "19944  121.216266            C  \n",
       "\n",
       "[19945 rows x 9 columns]"
      ]
     },
     "execution_count": 40,
     "metadata": {},
     "output_type": "execute_result"
    }
   ],
   "source": [
    "cltv"
   ]
  },
  {
   "cell_type": "code",
   "execution_count": null,
   "id": "91a84265",
   "metadata": {},
   "outputs": [],
   "source": []
  }
 ],
 "metadata": {
  "kernelspec": {
   "display_name": "Python 3 (ipykernel)",
   "language": "python",
   "name": "python3"
  },
  "language_info": {
   "codemirror_mode": {
    "name": "ipython",
    "version": 3
   },
   "file_extension": ".py",
   "mimetype": "text/x-python",
   "name": "python",
   "nbconvert_exporter": "python",
   "pygments_lexer": "ipython3",
   "version": "3.11.4"
  }
 },
 "nbformat": 4,
 "nbformat_minor": 5
}
